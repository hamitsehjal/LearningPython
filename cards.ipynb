{
 "cells": [
  {
   "cell_type": "code",
   "execution_count": 5,
   "metadata": {},
   "outputs": [],
   "source": [
    "import random\n",
    "\n",
    "suits=[\"Clubs\",\"Hearts\",\"Spades\",\"Diamonds\"]\n",
    "faces=[\"Jack\",\"Queen\",\"King\",\"Ace\"]\n",
    "numbers=[2,3,4,5,6,7,8,9,10]"
   ]
  },
  {
   "cell_type": "code",
   "execution_count": 12,
   "metadata": {},
   "outputs": [
    {
     "data": {
      "text/plain": [
       "['Clubs', 'Hearts', 'Spades', 'Diamonds']"
      ]
     },
     "execution_count": 12,
     "metadata": {},
     "output_type": "execute_result"
    }
   ],
   "source": [
    "suits"
   ]
  },
  {
   "cell_type": "code",
   "execution_count": 13,
   "metadata": {},
   "outputs": [],
   "source": [
    "deck=set()"
   ]
  },
  {
   "cell_type": "code",
   "execution_count": 15,
   "metadata": {},
   "outputs": [
    {
     "data": {
      "text/plain": [
       "set"
      ]
     },
     "execution_count": 15,
     "metadata": {},
     "output_type": "execute_result"
    }
   ],
   "source": [
    "type(deck)"
   ]
  },
  {
   "cell_type": "code",
   "execution_count": 17,
   "metadata": {},
   "outputs": [
    {
     "data": {
      "text/plain": [
       "0"
      ]
     },
     "execution_count": 17,
     "metadata": {},
     "output_type": "execute_result"
    }
   ],
   "source": [
    "len(deck)"
   ]
  },
  {
   "cell_type": "code",
   "execution_count": 19,
   "metadata": {},
   "outputs": [
    {
     "name": "stdout",
     "output_type": "stream",
     "text": [
      "['__and__', '__class__', '__class_getitem__', '__contains__', '__delattr__', '__dir__', '__doc__', '__eq__', '__format__', '__ge__', '__getattribute__', '__gt__', '__hash__', '__iand__', '__init__', '__init_subclass__', '__ior__', '__isub__', '__iter__', '__ixor__', '__le__', '__len__', '__lt__', '__ne__', '__new__', '__or__', '__rand__', '__reduce__', '__reduce_ex__', '__repr__', '__ror__', '__rsub__', '__rxor__', '__setattr__', '__sizeof__', '__str__', '__sub__', '__subclasshook__', '__xor__', 'add', 'clear', 'copy', 'difference', 'difference_update', 'discard', 'intersection', 'intersection_update', 'isdisjoint', 'issubset', 'issuperset', 'pop', 'remove', 'symmetric_difference', 'symmetric_difference_update', 'union', 'update']\n"
     ]
    }
   ],
   "source": [
    "print(dir(deck))"
   ]
  },
  {
   "cell_type": "markdown",
   "metadata": {},
   "source": [
    "**dir BIF**: list all the attributes associated with python object"
   ]
  },
  {
   "cell_type": "code",
   "execution_count": 21,
   "metadata": {},
   "outputs": [
    {
     "name": "stdout",
     "output_type": "stream",
     "text": [
      "Help on built-in function add:\n",
      "\n",
      "add(...) method of builtins.set instance\n",
      "    Add an element to a set.\n",
      "    \n",
      "    This has no effect if the element is already present.\n",
      "\n"
     ]
    }
   ],
   "source": [
    "help(deck.add)"
   ]
  },
  {
   "cell_type": "markdown",
   "metadata": {},
   "source": [
    "**help BIF**: display documentation about any BIF object's method\n"
   ]
  },
  {
   "cell_type": "code",
   "execution_count": 32,
   "metadata": {},
   "outputs": [],
   "source": [
    "for suit in suits:\n",
    "    for card in faces+numbers:\n",
    "        deck.add((card,\"of\",suit))"
   ]
  },
  {
   "cell_type": "code",
   "execution_count": 33,
   "metadata": {},
   "outputs": [
    {
     "data": {
      "text/plain": [
       "52"
      ]
     },
     "execution_count": 33,
     "metadata": {},
     "output_type": "execute_result"
    }
   ],
   "source": [
    "len(deck)"
   ]
  },
  {
   "cell_type": "code",
   "execution_count": 25,
   "metadata": {},
   "outputs": [
    {
     "name": "stdout",
     "output_type": "stream",
     "text": [
      "{(7, 'of', 'Diamonds'), (7, 'of', 'Clubs'), (7, 'of', 'Spades'), (3, 'of', 'Hearts'), (6, 'of', 'Diamonds'), (6, 'of', 'Clubs'), (6, 'of', 'Spades'), (4, 'of', 'Hearts'), (3, 'of', 'Diamonds'), ('Ace', 'of', 'Hearts'), (3, 'of', 'Clubs'), (3, 'of', 'Spades'), (4, 'of', 'Diamonds'), (4, 'of', 'Clubs'), (4, 'of', 'Spades'), ('Ace', 'of', 'Diamonds'), (5, 'of', 'Hearts'), ('Ace', 'of', 'Clubs'), ('Ace', 'of', 'Spades'), ('Queen', 'of', 'Hearts'), ('King', 'of', 'Hearts'), (2, 'of', 'Hearts'), (5, 'of', 'Diamonds'), ('Queen', 'of', 'Diamonds'), (8, 'of', 'Hearts'), (5, 'of', 'Clubs'), (5, 'of', 'Spades'), (9, 'of', 'Hearts'), ('Queen', 'of', 'Clubs'), ('Jack', 'of', 'Hearts'), ('King', 'of', 'Clubs'), ('Queen', 'of', 'Spades'), ('King', 'of', 'Spades'), (2, 'of', 'Clubs'), (2, 'of', 'Spades'), ('King', 'of', 'Diamonds'), (2, 'of', 'Diamonds'), (8, 'of', 'Diamonds'), (8, 'of', 'Clubs'), (8, 'of', 'Spades'), (9, 'of', 'Diamonds'), ('Jack', 'of', 'Diamonds'), (9, 'of', 'Clubs'), ('Jack', 'of', 'Clubs'), ('Jack', 'of', 'Spades'), (9, 'of', 'Spades'), (10, 'of', 'Hearts'), (6, 'of', 'Hearts'), (7, 'of', 'Hearts'), (10, 'of', 'Diamonds'), (10, 'of', 'Clubs'), (10, 'of', 'Spades')}\n"
     ]
    }
   ],
   "source": [
    "print(deck)"
   ]
  },
  {
   "cell_type": "markdown",
   "metadata": {},
   "source": [
    "**Why can't we use random.choice() directly on a Set?**\n",
    "\n",
    "Set are unordered collections of unique element. 'Random.choice()' methods expects to receive a sequence of elements such a list, with a assumption that the sequence will have defined order and can be accessed by 'index'. Unfortunately, sets don't have indices they have no defined order so using random.choice on a set directly will result in a error\n",
    "\n",
    "\n"
   ]
  },
  {
   "cell_type": "code",
   "execution_count": 31,
   "metadata": {},
   "outputs": [],
   "source": [
    "def draw():\n",
    "    card=random.choice(list(deck))\n",
    "    deck.remove(card)\n",
    "    return card"
   ]
  },
  {
   "cell_type": "code",
   "execution_count": 34,
   "metadata": {},
   "outputs": [
    {
     "name": "stdout",
     "output_type": "stream",
     "text": [
      "(3, 'of', 'Hearts')\n"
     ]
    }
   ],
   "source": [
    "print(draw())"
   ]
  },
  {
   "cell_type": "code",
   "execution_count": 35,
   "metadata": {},
   "outputs": [],
   "source": [
    "card=(3,'of','Hearts')"
   ]
  },
  {
   "cell_type": "code",
   "execution_count": 36,
   "metadata": {},
   "outputs": [
    {
     "data": {
      "text/plain": [
       "False"
      ]
     },
     "execution_count": 36,
     "metadata": {},
     "output_type": "execute_result"
    }
   ],
   "source": [
    "card in deck\n"
   ]
  },
  {
   "cell_type": "code",
   "execution_count": 37,
   "metadata": {},
   "outputs": [],
   "source": [
    "card=(5,'of','Spades')"
   ]
  },
  {
   "cell_type": "code",
   "execution_count": 38,
   "metadata": {},
   "outputs": [
    {
     "data": {
      "text/plain": [
       "True"
      ]
     },
     "execution_count": 38,
     "metadata": {},
     "output_type": "execute_result"
    }
   ],
   "source": [
    "card in deck"
   ]
  },
  {
   "cell_type": "code",
   "execution_count": null,
   "metadata": {},
   "outputs": [],
   "source": []
  }
 ],
 "metadata": {
  "kernelspec": {
   "display_name": "Python 3",
   "language": "python",
   "name": "python3"
  },
  "language_info": {
   "codemirror_mode": {
    "name": "ipython",
    "version": 3
   },
   "file_extension": ".py",
   "mimetype": "text/x-python",
   "name": "python",
   "nbconvert_exporter": "python",
   "pygments_lexer": "ipython3",
   "version": "3.10.8"
  }
 },
 "nbformat": 4,
 "nbformat_minor": 2
}
